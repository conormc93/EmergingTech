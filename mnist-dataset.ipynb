{
 "cells": [
  {
   "cell_type": "markdown",
   "metadata": {},
   "source": [
    "# _MNIST Dataset_"
   ]
  },
  {
   "cell_type": "markdown",
   "metadata": {},
   "source": [
    "<img src=\"images/MNIST.png\"/>"
   ]
  },
  {
   "cell_type": "markdown",
   "metadata": {},
   "source": [
    "### About\n",
    "\n",
    "MNIST(Modified National Institute of Standards and Technology) is a sub data set of NIST(National Institute of Standards and Technology), a large database of handwritten digits. MNIST is used to train image processing systems and is basically the \"hello world\" of computer vision.\n",
    "\n",
    "MNIST contains 60,000 training images and 10,000 testing images. Training images are used to train a system, and testing images are used to test the trained system."
   ]
  },
  {
   "cell_type": "markdown",
   "metadata": {},
   "source": [
    "### This Notebook\n",
    "\n",
    "This notebook will aim to explain the famous MNIST data set. I aim to show you various methods of loading the dataset into memory for use."
   ]
  },
  {
   "cell_type": "markdown",
   "metadata": {},
   "source": [
    "---"
   ]
  },
  {
   "cell_type": "markdown",
   "metadata": {},
   "source": [
    "#### Downloading the dataset"
   ]
  },
  {
   "cell_type": "markdown",
   "metadata": {},
   "source": [
    "For the following notebook, I use a serious of files which can be downloaded from [here](http://yann.lecun.com/exdb/mnist/). Once you have them downloaded you can create a directory on your machine called __data__ and drop the files for use in here."
   ]
  },
  {
   "cell_type": "markdown",
   "metadata": {},
   "source": [
    "The pictures of the numbers are stored as .idx files in the zipped folder. So, we are going to have to figure out how to handle these files..."
   ]
  },
  {
   "cell_type": "code",
   "execution_count": 1,
   "metadata": {},
   "outputs": [
    {
     "data": {
      "text/plain": [
       "b'\\x00\\x00\\x08\\x03'"
      ]
     },
     "execution_count": 1,
     "metadata": {},
     "output_type": "execute_result"
    }
   ],
   "source": [
    "# Import gzip to unzip our files\n",
    "import gzip\n",
    "\n",
    "# Using gzip we just import, open the zip files contained in our data folder\n",
    "with gzip.open('data/t10k-images-idx3-ubyte.gz', 'rb') as file:\n",
    "    file_content = file.read()  \n",
    "\n",
    "# Print the first 4 elements of our file to make sure we're opening it properly\n",
    "file_content[0:4]"
   ]
  },
  {
   "cell_type": "markdown",
   "metadata": {},
   "source": [
    "---"
   ]
  },
  {
   "cell_type": "markdown",
   "metadata": {},
   "source": [
    "## Read the files"
   ]
  },
  {
   "cell_type": "markdown",
   "metadata": {},
   "source": [
    "#### Reading the IDX files"
   ]
  },
  {
   "cell_type": "markdown",
   "metadata": {},
   "source": [
    "The first task is to try read the __IDX__ files which are contained in the zipped folders."
   ]
  },
  {
   "cell_type": "markdown",
   "metadata": {},
   "source": [
    "Each vector in the matrix consists of 784 pixels (28x28 pixel images). We can load each 784 set into a 28X28 numpy array as an unassigned 8 bit integer."
   ]
  },
  {
   "cell_type": "code",
   "execution_count": 2,
   "metadata": {},
   "outputs": [],
   "source": [
    "# Import numpy as np\n",
    "import numpy as np\n",
    "\n",
    "# convert data to 28x28 array\n",
    "image = ~np.array(list(file_content[16:800])).reshape(28,28).astype(np.uint8)"
   ]
  },
  {
   "cell_type": "code",
   "execution_count": 3,
   "metadata": {},
   "outputs": [
    {
     "data": {
      "text/plain": [
       "<matplotlib.image.AxesImage at 0x1aedca563c8>"
      ]
     },
     "execution_count": 3,
     "metadata": {},
     "output_type": "execute_result"
    },
    {
     "data": {
      "image/png": "[encoded data removed]",
      "text/plain": [
       "<Figure size 432x288 with 1 Axes>"
      ]
     },
     "metadata": {},
     "output_type": "display_data"
    }
   ],
   "source": [
    "%matplotlib inline\n",
    "import matplotlib.pyplot as plt\n",
    "\n",
    "plt.imshow(image, cmap='gray')"
   ]
  },
  {
   "cell_type": "markdown",
   "metadata": {},
   "source": [
    "#### Reading label data"
   ]
  },
  {
   "cell_type": "markdown",
   "metadata": {},
   "source": [
    "The label files are formatted similar to the image files. The first 4 bytes give us information about the file"
   ]
  },
  {
   "cell_type": "code",
   "execution_count": 4,
   "metadata": {},
   "outputs": [
    {
     "name": "stdout",
     "output_type": "stream",
     "text": [
      "Magic Number    :  b\"\\x00\\x00'\\x10\"\n",
      "Number of items :  10000\n",
      "Display label as bytes   :  b'\\x07'\n",
      "Display label as an integer :  7\n"
     ]
    }
   ],
   "source": [
    "# read labels from file\n",
    "with gzip.open('data/t10k-labels-idx1-ubyte.gz', 'rb') as f:\n",
    "    labels = f.read()\n",
    "\n",
    "print(\"Magic Number    : \", labels[4:8])  \n",
    "print(\"Number of items : \", int.from_bytes(labels[4:8], byteorder=\"big\"))  \n",
    "\n",
    "# Display label as bytes    \n",
    "print(\"Display label as bytes   : \", labels[8:9])\n",
    "# Display  label as int\n",
    "print(\"Display label as an integer : \", int.from_bytes(labels[8:9], byteorder=\"big\"))"
   ]
  },
  {
   "cell_type": "markdown",
   "metadata": {},
   "source": [
    "---"
   ]
  },
  {
   "cell_type": "markdown",
   "metadata": {},
   "source": [
    "## Python functions & MNIST"
   ]
  },
  {
   "cell_type": "markdown",
   "metadata": {},
   "source": [
    "So now we know how to work with the dataset; we have parsed the data for the _.idx_ files and displayed the first image within the dataset, and we've also displayed the integer based off the label data from the same dataset."
   ]
  },
  {
   "cell_type": "markdown",
   "metadata": {},
   "source": [
    "The next step is to create python functions that can read the images and labels folders and display the information for them, such as:\n",
    "    - Magic Number\n",
    "    - File length\n",
    "    - Return a list of labels (be mindful of your processing power)"
   ]
  },
  {
   "cell_type": "markdown",
   "metadata": {},
   "source": [
    "---"
   ]
  },
  {
   "cell_type": "code",
   "execution_count": 5,
   "metadata": {},
   "outputs": [],
   "source": [
    "# Importing PIL to convert arrays into images.\n",
    "from PIL import Image"
   ]
  },
  {
   "cell_type": "code",
   "execution_count": 6,
   "metadata": {},
   "outputs": [
    {
     "name": "stdout",
     "output_type": "stream",
     "text": [
      "File: data/train-labels-idx1-ubyte.gz \n",
      "Magic number: \t\t      2049\n",
      "Number of Images: \t     60000\n",
      "\n",
      "File: data/train-images-idx3-ubyte.gz \n",
      "Magic number: \t\t      2051\n",
      "Number of Images: \t     60000\n",
      "Number of Rows: \t        28\n",
      "Number of Columns: \t        28\n",
      "\n",
      "File: data/t10k-labels-idx1-ubyte.gz \n",
      "Magic number: \t\t      2049\n",
      "Number of Images: \t     10000\n",
      "\n",
      "File: data/t10k-images-idx3-ubyte.gz \n",
      "Magic number: \t\t      2051\n",
      "Number of Images: \t     10000\n",
      "Number of Rows: \t        28\n",
      "Number of Columns: \t        28\n",
      "\n",
      "\n",
      "\n",
      "............................\n",
      "\n",
      "............................\n",
      "\n",
      "............................\n",
      "\n",
      "............................\n",
      "\n",
      "............................\n",
      "\n",
      ".....................#......\n",
      "\n",
      ".....................#......\n",
      "\n",
      ".....#..............##......\n",
      "\n",
      "....##..............##......\n",
      "\n",
      "....##.............##.......\n",
      "\n",
      "....##.............##.......\n",
      "\n",
      "....##.............##.......\n",
      "\n",
      "...##.............###.......\n",
      "\n",
      "...##............###........\n",
      "\n",
      "...##.......########........\n",
      "\n",
      "...############...##........\n",
      "\n",
      ".....#####........##........\n",
      "\n",
      ".................###........\n",
      "\n",
      ".................##.........\n",
      "\n",
      ".................##.........\n",
      "\n",
      ".................##.........\n",
      "\n",
      ".................##.........\n",
      "\n",
      ".................###........\n",
      "\n",
      ".................###........\n",
      "\n",
      "..................##........\n",
      "\n",
      "............................\n",
      "\n",
      "............................\n",
      "\n",
      "............................"
     ]
    }
   ],
   "source": [
    "def read_labels(file):\n",
    "    try:\n",
    "        with gzip.open(file) as f:\n",
    "            # Magic number - *Expected to be 2049*\n",
    "            magic_num = int.from_bytes(f.read(4), byteorder=\"big\")\n",
    "\n",
    "            # Number of Labels - *Expected to be 60000 training file labels & 10000 testing file labels*\n",
    "            no_labels = int.from_bytes(f.read(4), byteorder=\"big\")\n",
    "            \n",
    "            print(\"File:\",file,\"\\nMagic number: \\t\\t%10d\\nNumber of Images: \\t%10d\\n\"%(magic_num,no_labels))\n",
    "            \n",
    "            # Create a list of labels -\n",
    "            # I don't have the processing power to loop over each label/image so I just use the first\n",
    "            # n images where n = no_labels / 1000. I can assume if it works for n images, it will work for\n",
    "            # all of the images.\n",
    "            # Looping over the number of labels divided 1000 and reading in each label 1 by 1.\n",
    "            label_list = [int.from_bytes(f.read(1), byteorder=\"big\") for i in range(int(no_labels / 1000))]\n",
    "            \n",
    "            return label_list\n",
    "    finally:\n",
    "        f.close()\n",
    "\n",
    "# read_images will read the image files and return a list of pixels for each image.\n",
    "def read_images(file):\n",
    "    try:\n",
    "        with gzip.open(file) as f:\n",
    "            # Magic number - *Expected to be 2051*\n",
    "            magic_num = int.from_bytes(f.read(4), byteorder=\"big\")\n",
    "\n",
    "            # Number of images - *Expected to be 60000 training files & 10000 testing files*\n",
    "            no_images = int.from_bytes(f.read(4), byteorder=\"big\")\n",
    "\n",
    "            # Number of rows - *Expected to be 28*\n",
    "            no_rows = int.from_bytes(f.read(4), byteorder=\"big\")\n",
    "\n",
    "            # Number of columns - *Expected to be 28*\n",
    "            no_cols = int.from_bytes(f.read(4), byteorder=\"big\")\n",
    "\n",
    "            # Print out file details.\n",
    "            # If parsed correctly, the values should be the same as the expected.\n",
    "            print(\"File:\",file,\"\\nMagic number: \\t\\t%10d\\nNumber of Images: \\t%10d\\nNumber of Rows: \\t%10d\\nNumber of Columns: \\t%10d\\n\" %(magic_num,no_images,no_rows,no_rows))\n",
    "\n",
    "            pixel_list = [[[int.from_bytes(f.read(1), byteorder=\"big\")for i in range(no_cols)] for j in range(no_rows)] for k in range(int(no_images / 1000))]\n",
    "\n",
    "            # Return the list of pixels to be used in different functions.\n",
    "            return pixel_list\n",
    "    finally:\n",
    "        # Close the file after using it.\n",
    "        f.close()\n",
    "\n",
    "# print_image will recieve a list of pixels and print out a visual representation of the image to the console.\n",
    "def print_image(pixel_list):\n",
    "    # Loop over the number of rows in the pixel list.\n",
    "    for i in pixel_list:\n",
    "        # Prints out a new line after each row.\n",
    "        print(\"\\n\")\n",
    "        # Loop over the number of columns in the rows\n",
    "        for j in i:\n",
    "            # If the column value is less than 128, print out \".\" - This represents a white pixel.\n",
    "            if( j < 128):\n",
    "                print(\".\", end=\"\")\n",
    "            # Or else if the column is greater than 128, print out \"#\" - This represents a black pixel.\n",
    "            else:\n",
    "                print(\"#\", end=\"\")\n",
    "\n",
    "def save_image(pixel_list, index, label, train_test):\n",
    "    # Instantiate an empty string.\n",
    "    file_format = \"\"\n",
    "\n",
    "    # If the train_test value is true, change the empty string to \"train-xxxxx-y\" format.\n",
    "    if(train_test):\n",
    "        # Using the string format %05d and %d to add variables to the string.\n",
    "        # %05d adds 0s to the left if not enough integers.\n",
    "        file_format = \"images/train-%05d-%d.png\"\n",
    "    # If the train_test value is false, change the empty string to \"test-xxxxx-y\" format.\n",
    "    else:\n",
    "        # Using the string format %05d and %d to add variables to the string.\n",
    "        # %05d adds 0s to the left if not enough integers.\n",
    "        file_format = \"images/test-%05d-%d.png\"\n",
    "    \n",
    "    # Using numpys .array() function to turn the list into a numpy array.\n",
    "    pixel_array = np.array(pixel_list)\n",
    "\n",
    "    # Turn the array into an image, using Pillow's Image.fromarray() \n",
    "    # to an image memory from an object exporting the array interface and converting to\n",
    "    # \"RGB\" to save file locally.\n",
    "    image = Image.fromarray(pixel_array).convert(\"RGB\")\n",
    "\n",
    "    # Saving the file and inserting the correct variables into the string for the \"train/test-xxxxx-y\" format.\n",
    "    image.save(file_format %(index,label))\n",
    "\n",
    "    \n",
    "# A try/catch to inform the user that the data files are non existent if the files fail to load.\n",
    "try:\n",
    "    # List of labels for the training images.\n",
    "    training_labels = read_labels(\"data/train-labels-idx1-ubyte.gz\")\n",
    "    # List of pixels representing the training images.\n",
    "    training_images = read_images(\"data/train-images-idx3-ubyte.gz\")\n",
    "    # List of labels for the testing images.\n",
    "    testing_labels = read_labels(\"data/t10k-labels-idx1-ubyte.gz\")\n",
    "    # List of pixels representing the testing images.\n",
    "    testing_images = read_images(\"data/t10k-images-idx3-ubyte.gz\")\n",
    "\n",
    "    # Call the print_image function to print out the 3rd image to the screen\n",
    "    print_image(training_images[2])\n",
    "\n",
    "    # Loop that starts at 1, the length of training/testing_images+1 and increments by 1.\n",
    "    # Each iteration will save the image at the current index i - 1 (as the loop starts at 1 and ends at 60).\n",
    "    for i in range(1,len(training_images)+1,1):\n",
    "        save_image(training_images[i-1], i, training_labels[i-1], True)\n",
    "\n",
    "    for i in range(1,len(testing_images)+1,1):\n",
    "        save_image(testing_images[i-1], i, testing_labels[i-1], False)\n",
    "except:\n",
    "    print (\"Trouble opening the gzip MNIST files. Make sure the 'data' directory is created and the MNIST dataset is downloaded.\")"
   ]
  },
  {
   "cell_type": "code",
   "execution_count": null,
   "metadata": {},
   "outputs": [],
   "source": []
  },
  {
   "cell_type": "code",
   "execution_count": null,
   "metadata": {},
   "outputs": [],
   "source": []
  },
  {
   "cell_type": "code",
   "execution_count": null,
   "metadata": {},
   "outputs": [],
   "source": []
  },
  {
   "cell_type": "markdown",
   "metadata": {},
   "source": [
    "#### References\n",
    "- https://stackoverflow.com/questions/12902540/read-from-a-gzip-file-in-python\n",
    "- https://stackoverflow.com/questions/2872381/how-to-read-a-file-byte-by-byte-in-python-and-how-to-print-a-bytelist-as-a-binar\n",
    "- https://stackoverflow.com/questions/1035340/reading-binary-file-and-looping-over-each-byte\n",
    "- https://stackoverflow.com/questions/10668341/create-3d-array-using-python\n",
    "- https://stackoverflow.com/questions/902761/saving-a-numpy-array-as-an-image\n",
    "- https://stackoverflow.com/questions/4711880/pil-using-fromarray-with-binary-data-and-writing-coloured-text\n",
    "- https://stackoverflow.com/questions/339007/nicest-way-to-pad-zeroes-to-string"
   ]
  },
  {
   "cell_type": "code",
   "execution_count": null,
   "metadata": {},
   "outputs": [],
   "source": []
  }
 ],
 "metadata": {
  "kernelspec": {
   "display_name": "Python 3",
   "language": "python",
   "name": "python3"
  },
  "language_info": {
   "codemirror_mode": {
    "name": "ipython",
    "version": 3
   },
   "file_extension": ".py",
   "mimetype": "text/x-python",
   "name": "python",
   "nbconvert_exporter": "python",
   "pygments_lexer": "ipython3",
   "version": "3.6.5"
  }
 },
 "nbformat": 4,
 "nbformat_minor": 2
}
