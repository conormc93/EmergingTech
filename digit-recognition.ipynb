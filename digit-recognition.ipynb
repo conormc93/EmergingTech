{
 "cells": [
  {
   "cell_type": "markdown",
   "metadata": {},
   "source": [
    "# MNIST Model Training\n",
    "---\n",
    "#### Written by Conor McGrath\n",
    "---"
   ]
  },
  {
   "cell_type": "markdown",
   "metadata": {},
   "source": [
    "## Introduction\n",
    "\n",
    "This is my jupyter notebook containing the code I used to train my Tensorflow model to predict hand drawn figures for my script __digitrec.py__. The model is trained and tested using the MNIST dataset and built using Keras with Python 3.6.\n",
    "\n",
    "I will not be explaining what the dataset is and how to work with it as I have already covered those topics in my __[other notebook](https://github.com/conormc93/EmergingTech/blob/master/mnist-dataset.ipynb)__, make sure to check that out before reading through this.\n",
    "\n",
    "---"
   ]
  },
  {
   "cell_type": "markdown",
   "metadata": {},
   "source": [
    "### Explaining Tensorflow\n",
    "\n",
    "Tensorflow is a popular software library for dataflow programming across a range of tasks. Tensorflow is open-source and is developed by the Google Brain Team. Tensorflow is a symbolic math library and is also used for machine learning applications such as __[neaural networks](https://en.wikipedia.org/wiki/TensorFlow)__. \n",
    "\n",
    "I will be __[creating an environment](https://towardsdatascience.com/setup-an-environment-for-machine-learning-and-deep-learning-with-anaconda-in-windows-5d7134a3db10)__ for using Tensorflow and Keras."
   ]
  },
  {
   "cell_type": "markdown",
   "metadata": {},
   "source": [
    "### Explaining Keras\n",
    "\n",
    "__[Keras](https://en.wikipedia.org/wiki/Keras)__ is an open source neural network library written in Python developed by a Google engineer: Francois Chollet. Keras acts like a \"library on top of a library\" as it is capable of running on top of MXNet, Deeplearning4j, Tensorflow, CNTK or Theano. Keras takes the functionality in core Tensorflow and adds a higher-level of abstraction to it, making it easier to experiment with deep neural networks.\n",
    "\n",
    "---"
   ]
  },
  {
   "cell_type": "markdown",
   "metadata": {},
   "source": [
    "## Getting Started\n",
    "\n",
    "### 1. Download the MNIST dataset\n",
    "\n",
    "Before I can start building my model, I must first get the MNIST dataset and decode it into a format that allows me to use it later on. \n",
    "\n",
    "MNIST is quite a popular dataset for machine learning and the Keras library comes with a pre-built MNIST dataset.\n",
    "\n",
    "The __*keras.datasets.mnist.load_data()*__ produces 2 tuples:\n",
    "\n",
    "    x_train, x_test: uint8 array of grayscale image data with shape (num_samples, 28, 28).\n",
    "    y_train, y_test: uint8 array of digit labels (integers in range 0-9) with shape (num_samples,).\n",
    "\n",
    "I will be renaming the variables like so:\n",
    "\n",
    "        x_train -> image_train\n",
    "        x_test  -> image_test\n",
    "        \n",
    "        y_train -> label_train\n",
    "        y_test  -> label_test\n"
   ]
  },
  {
   "cell_type": "markdown",
   "metadata": {},
   "source": [
    "---"
   ]
  },
  {
   "cell_type": "markdown",
   "metadata": {},
   "source": [
    "## Reshape & Evaluate\n",
    "\n",
    "### 2. Preparing the dataset for training & testing\n",
    "\n",
    "---\n",
    "![Return Information on MNSIT Dataset](notebook-pictures/rs_dataset_1.png)\n",
    "\n",
    "---\n",
    "After executing the function `reshape_dataset()`, we are left with an numpy array of digits which represent the RGB values for each pixel. \n",
    "\n",
    "The shape of the image arrays is (60000, 28, 28), meaning that there are 28 rows and 28 columns of pixels representing each picture. \n",
    "\n",
    "The shape of the label arrays is (10000), these labels correspond to the 60,000 images in the image arrays.\n",
    "\n",
    "---\n",
    "![Return Information on MNSIT Dataset](notebook-pictures/rs_dataset_2.png)\n",
    "\n",
    "---"
   ]
  },
  {
   "cell_type": "markdown",
   "metadata": {},
   "source": [
    "## Build & Model\n",
    "\n",
    "### 3. The architecture of my Neural Network\n",
    "\n",
    "---\n",
    "To feed MNIST instances into a neural network, they need to be:\n",
    "\n",
    "    - reshaped, from a 2 dimensional image representation to a single dimension sequence\n",
    "    - convert our class vector to a binary matrix (using to_categorical)\n",
    "\n",
    "To prepare my data I must consider what type of architecture my neural network will have.. \n",
    "\n",
    "    - Basic Neural Network\n",
    "    - Convolutional Neural Network\n",
    "    - Recurrent Neural Network\n",
    "\n",
    "---\n",
    "![Building Neural Network](notebook-pictures/build_model_1.PNG)\n",
    "\n",
    "---\n",
    "As you can see from the image above, I have decided to use the __[Sequential](https://keras.io/getting-started/sequential-model-guide/)__ class. \n",
    "\n",
    "This is an example of a Recurrent Neural Network.\n",
    "\n",
    "Since it is a multi-class classification problem we are solving with our network, the activation function for this layer is set to softmax.\n",
    "\n",
    "The last part of the image above compiles our model. \n",
    "\n",
    "We do this to configure the learning process for our model, using the `compile()` method of the Sequential model class.\n",
    "\n",
    "---\n",
    "![Building Neural Network](notebook-pictures/build_model_2.PNG)\n",
    "\n",
    "---\n",
    "\n",
    "At this point we have training data and a fully configured neural network to train with said data. \n",
    "\n",
    "The next part is to pass the data to our model by iterating over the data itself.\n",
    "\n",
    "The fit method requires a minimum of 2 arguments:\n",
    "    \n",
    "    - input tensors (image_train)\n",
    "    - target tensors (label_train)\n",
    "    \n",
    "If nothing more is provided, a single iteration of the training data is performed, which generally won't do you any good.\n",
    "\n",
    "Therefore, it would be more conventional to define a pair of additional __[arguments](https://keras.io/getting-started/faq/#what-does-sample-batch-epoch-mean)__: \n",
    "    \n",
    "    - batch_size\n",
    "    - epochs\n",
    "\n",
    "I've also included two more arguments:\n",
    "    \n",
    "    - verbose (0 = silent, 1 = progress bar, 2 = one line per epoch)\n",
    "    - validation_data (data on which to evaluate the loss and any model metrics at the end of each epoch)"
   ]
  },
  {
   "cell_type": "markdown",
   "metadata": {},
   "source": [
    "## Read & Predict an Image\n",
    "\n",
    "### 3.1 Image processing\n",
    "\n",
    "---\n",
    "So now we have a script that:\n",
    "\n",
    "    - loads the dataset\n",
    "    - reshapes the data\n",
    "    - trains a RNN model by passing in a NumPy array of input data and labels\n",
    "    \n",
    "The next part is to try predict the number contained with an image file (.png, .jpg)\n",
    "\n",
    "---\n",
    "![Building Neural Network](notebook-pictures/build_model_3.PNG)\n",
    "\n",
    "---\n",
    "\n",
    "Before the above code, I have already prompted the user to __input__ the name of the image (including the extension) they would like the model to predict.\n",
    "\n",
    "The next step is to take this __input__ and convert the image to grey scale using the [OpenCV](https://docs.opencv.org/3.4/d1/dfb/intro.html) library, and in particular the `cv2.cvtColor()` method.\n",
    "\n",
    "I then reshape the image and convert the values of each value within that array to type __float32__.\n",
    "\n",
    "What you will have is a 1D array that returns the RGB values.\n",
    "\n",
    "The next step is to load the model.\n",
    "\n",
    "Remember that I built & saved the model in my function `neural_net_model()`.\n",
    "\n",
    "Using the import `from keras.models import load_model` we can load any model we have saved previously. (Note: unless you run the function `neural_net_model()`, you won't have a model that you can use).\n",
    "\n",
    "The `model.predict()` method then returns a possibility value for each integer.\n",
    "\n",
    "---\n",
    "![Building Neural Network](notebook-pictures/build_model_4.PNG)\n",
    "\n",
    "---\n",
    "\n",
    "In the above part of my script, I just format my results and output them.\n",
    "I then ask the user to input another file for my model to predict."
   ]
  },
  {
   "cell_type": "markdown",
   "metadata": {},
   "source": [
    "## Evaluation & Performance\n",
    "\n",
    "---\n",
    "![Accuracy](notebook-pictures/probability_value.PNG)\n",
    "\n",
    "---\n",
    "\n",
    "My script takes in an image file, and predicts the correct value for that image. "
   ]
  }
 ],
 "metadata": {
  "kernelspec": {
   "display_name": "Python 3",
   "language": "python",
   "name": "python3"
  },
  "language_info": {
   "codemirror_mode": {
    "name": "ipython",
    "version": 3
   },
   "file_extension": ".py",
   "mimetype": "text/x-python",
   "name": "python",
   "nbconvert_exporter": "python",
   "pygments_lexer": "ipython3",
   "version": "3.6.6"
  }
 },
 "nbformat": 4,
 "nbformat_minor": 1
}
