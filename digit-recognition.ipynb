{
 "cells": [
  {
   "cell_type": "markdown",
   "metadata": {},
   "source": [
    "# MNIST Model Training\n",
    "---\n",
    "#### Written by Conor McGrath\n",
    "---"
   ]
  },
  {
   "cell_type": "markdown",
   "metadata": {},
   "source": [
    "## Introduction\n",
    "\n",
    "This is my jupyter notebook containing the code I used to train my Tensorflow model to predict hand drawn figures for my script __digitrec.py__. The model is trained and tested using the MNIST dataset and built using Keras with Python 3.6.\n",
    "\n",
    "I will not be explaining what the dataset is and how to work with it as I have already covered those topics in my __[other notebook](https://github.com/conormc93/EmergingTech/blob/master/mnist-dataset.ipynb)__, make sure to check that out before reading through this.\n",
    "\n",
    "---"
   ]
  },
  {
   "cell_type": "markdown",
   "metadata": {},
   "source": [
    "### Explaining Tensorflow\n",
    "\n",
    "Tensorflow is a popular software library for dataflow programming across a range of tasks. Tensorflow is open-source and is developed by the Google Brain Team. Tensorflow is a symbolic math library and is also used for machine learning applications such as __[neaural networks](https://en.wikipedia.org/wiki/TensorFlow)__. \n",
    "\n",
    "I will be __[creating an environment](https://towardsdatascience.com/setup-an-environment-for-machine-learning-and-deep-learning-with-anaconda-in-windows-5d7134a3db10)__ for using Tensorflow and Keras."
   ]
  },
  {
   "cell_type": "markdown",
   "metadata": {},
   "source": [
    "### Explaining Keras\n",
    "\n",
    "__[Keras](https://en.wikipedia.org/wiki/Keras)__ is an open source neural network library written in Python developed by a Google engineer: Francois Chollet. Keras acts like a \"library on top of a library\" as it is capable of running on top of MXNet, Deeplearning4j, Tensorflow, CNTK or Theano. Keras takes the functionality in core Tensorflow and adds a higher-level of abstraction to it, making it easier to experiment with deep neural networks.\n",
    "\n",
    "---"
   ]
  },
  {
   "cell_type": "markdown",
   "metadata": {},
   "source": [
    "## Getting Started\n",
    "\n",
    "### 1. Download the MNIST dataset\n",
    "\n",
    "Before I can start building my model, I must first get the MNIST dataset and decode it into a format that allows me to use it later on. \n",
    "\n",
    "MNIST is quite a popular dataset for machine learning and the Keras library comes with a pre-built MNIST dataset.\n",
    "\n",
    "The __*keras.datasets.mnist.load_data()*__ produces 2 tuples:\n",
    "\n",
    "    x_train, x_test: uint8 array of grayscale image data with shape (num_samples, 28, 28).\n",
    "    y_train, y_test: uint8 array of digit labels (integers in range 0-9) with shape (num_samples,).\n",
    "\n",
    "I will be renaming the variables like so:\n",
    "\n",
    "        x_train -> image_train\n",
    "        x_test  -> image_test\n",
    "        \n",
    "        y_train -> label_train\n",
    "        y_test  -> label_test\n"
   ]
  },
  {
   "cell_type": "markdown",
   "metadata": {},
   "source": []
  },
  {
   "cell_type": "markdown",
   "metadata": {},
   "source": []
  },
  {
   "cell_type": "markdown",
   "metadata": {},
   "source": []
  },
  {
   "cell_type": "markdown",
   "metadata": {},
   "source": []
  },
  {
   "cell_type": "markdown",
   "metadata": {},
   "source": []
  },
  {
   "cell_type": "markdown",
   "metadata": {},
   "source": []
  },
  {
   "cell_type": "markdown",
   "metadata": {},
   "source": []
  },
  {
   "cell_type": "markdown",
   "metadata": {},
   "source": []
  }
 ],
 "metadata": {
  "kernelspec": {
   "display_name": "Python 3",
   "language": "python",
   "name": "python3"
  },
  "language_info": {
   "codemirror_mode": {
    "name": "ipython",
    "version": 3
   },
   "file_extension": ".py",
   "mimetype": "text/x-python",
   "name": "python",
   "nbconvert_exporter": "python",
   "pygments_lexer": "ipython3",
   "version": "3.6.6"
  }
 },
 "nbformat": 4,
 "nbformat_minor": 1
}
