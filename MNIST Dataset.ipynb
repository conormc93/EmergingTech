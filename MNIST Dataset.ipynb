{
 "cells": [
  {
   "cell_type": "markdown",
   "metadata": {},
   "source": [
    "# _MNIST Dataset_"
   ]
  },
  {
   "cell_type": "markdown",
   "metadata": {},
   "source": [
    "<img src=\"images/MNIST.png\"/>"
   ]
  },
  {
   "cell_type": "markdown",
   "metadata": {},
   "source": [
    "### About\n",
    "\n",
    "MNIST(Modified National Institute of Standards and Technology) is a sub data set of NIST(National Institute of Standards and Technology), a large database of handwritten digits. MNIST is used to train image processing systems and is basically the \"hello world\" of computer vision.\n",
    "\n",
    "MNIST contains 60,000 training images and 10,000 testing images. Training images are used to train a system, and testing images are used to test the trained system."
   ]
  },
  {
   "cell_type": "markdown",
   "metadata": {},
   "source": [
    "### This Notebook\n",
    "\n",
    "This notebook will aim to explain the famous MNIST data set. I aim to show you various methods of loading the dataset into memory for use."
   ]
  },
  {
   "cell_type": "markdown",
   "metadata": {},
   "source": [
    "#### Downloading the dataset"
   ]
  },
  {
   "cell_type": "code",
   "execution_count": 1,
   "metadata": {},
   "outputs": [
    {
     "name": "stdout",
     "output_type": "stream",
     "text": [
      "Downloading Files... (This may take a while depending on your internet connection)\n"
     ]
    },
    {
     "data": {
      "text/plain": [
       "('t10k-labels-idx1-ubyte.gz', <http.client.HTTPMessage at 0x22df3d1e978>)"
      ]
     },
     "execution_count": 1,
     "metadata": {},
     "output_type": "execute_result"
    }
   ],
   "source": [
    "# Adapated code from\n",
    "#       Download file from URL       \n",
    "#        -  https://stackoverflow.com/questions/22676/how-do-i-download-a-file-over-http-using-python\n",
    "#       Use Operating System commands \n",
    "#         - https://stackoverflow.com/questions/1274405/how-to-create-new-folder\n",
    "\n",
    "# Import OS to use operating system commands\n",
    "import os\n",
    "# Import urllib.request to make a HTTP request.\n",
    "import urllib.request\n",
    "\n",
    "# Create a directory \"data\"\n",
    "os.makedirs(\"./data\")\n",
    "# Change directory to \"data\"\n",
    "os.chdir(\"./data\")\n",
    "\n",
    "print(\"Downloading Files... (This may take a while depending on your internet connection)\")\n",
    "\n",
    "# Use urllib's request to retrieve the gzip files from yann.lecun.com and save them into the current directory.\n",
    "urllib.request.urlretrieve('http://yann.lecun.com/exdb/mnist/train-images-idx3-ubyte.gz', 'train-images-idx3-ubyte.gz')\n",
    "urllib.request.urlretrieve('http://yann.lecun.com/exdb/mnist/train-labels-idx1-ubyte.gz', 'train-labels-idx1-ubyte.gz')\n",
    "urllib.request.urlretrieve('http://yann.lecun.com/exdb/mnist/t10k-images-idx3-ubyte.gz', 't10k-images-idx3-ubyte.gz')\n",
    "urllib.request.urlretrieve('http://yann.lecun.com/exdb/mnist/t10k-labels-idx1-ubyte.gz', 't10k-labels-idx1-ubyte.gz')"
   ]
  },
  {
   "cell_type": "markdown",
   "metadata": {},
   "source": [
    "Using the above script, you create a directory within your current directory called \"data\". Within this directory you download the files for use."
   ]
  },
  {
   "cell_type": "markdown",
   "metadata": {},
   "source": [
    "#### Unzip the files"
   ]
  },
  {
   "cell_type": "code",
   "execution_count": 2,
   "metadata": {},
   "outputs": [],
   "source": [
    "import gzip\n",
    "# Importing numpy to convert lists into arrays.\n",
    "import numpy as numpy\n",
    "# Importing PIL to convert arrays into images.\n",
    "from PIL import Image\n",
    "\n",
    "# The functions (read_labels and read_images) are used to decompress, read and store a file \n",
    "# by passing the file location as a parameter.\n",
    "# read_labels will read the label files and return a list of labels.\n",
    "def read_labels(file):\n",
    "    try:\n",
    "        with gzip.open(file) as f:\n",
    "            # Magic number - *Expected to be 2049*\n",
    "            magic_num = int.from_bytes(f.read(4), byteorder=\"big\")\n",
    "\n",
    "            # Number of Labels - *Expected to be 60000 training file labels & 10000 testing file labels*\n",
    "            no_labels = int.from_bytes(f.read(4), byteorder=\"big\")\n",
    "\n",
    "            # Print out file details.\n",
    "            # If parsed correctly, the values should be the same as the values expected.\n",
    "            print(\"File:\",file,\"\\nMagic number: \\t\\t%10d\\nNumber of Images: \\t%10d\\n\"%(magic_num,no_labels))\n",
    "            \n",
    "            # Create a list of labels -\n",
    "            # I don't have the processing power to loop over each label/image so I just use the first\n",
    "            # n images where n = no_labels / 1000. I can assume if it works for n images, it will work for\n",
    "            # all of the images.\n",
    "            # Looping over the number of labels divided 1000 and reading in each label 1 by 1.\n",
    "            label_list = [int.from_bytes(f.read(1), byteorder=\"big\") for i in range(int(no_labels / 1000))]\n",
    "\n",
    "            # Return the list of labels to be used in different functions.\n",
    "            return label_list\n",
    "    finally:\n",
    "        # Close the file after using it.\n",
    "        f.close()"
   ]
  },
  {
   "cell_type": "code",
   "execution_count": null,
   "metadata": {},
   "outputs": [],
   "source": []
  },
  {
   "cell_type": "code",
   "execution_count": null,
   "metadata": {},
   "outputs": [],
   "source": []
  },
  {
   "cell_type": "code",
   "execution_count": null,
   "metadata": {},
   "outputs": [],
   "source": []
  },
  {
   "cell_type": "code",
   "execution_count": null,
   "metadata": {},
   "outputs": [],
   "source": []
  },
  {
   "cell_type": "code",
   "execution_count": null,
   "metadata": {},
   "outputs": [],
   "source": []
  }
 ],
 "metadata": {
  "kernelspec": {
   "display_name": "Python 3",
   "language": "python",
   "name": "python3"
  },
  "language_info": {
   "codemirror_mode": {
    "name": "ipython",
    "version": 3
   },
   "file_extension": ".py",
   "mimetype": "text/x-python",
   "name": "python",
   "nbconvert_exporter": "python",
   "pygments_lexer": "ipython3",
   "version": "3.6.5"
  }
 },
 "nbformat": 4,
 "nbformat_minor": 2
}
